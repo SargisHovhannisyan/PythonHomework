{
 "cells": [
  {
   "cell_type": "code",
   "execution_count": 6,
   "metadata": {},
   "outputs": [],
   "source": [
    "# Problem 1\n",
    "\n",
    "def get_max(*args):\n",
    "    if(args == ()):\n",
    "        return 'No numbers given'\n",
    "    \n",
    "    max1 = args[0]\n",
    "    for arg in args:\n",
    "        if max1 < arg:\n",
    "            max1 = arg\n",
    "    return max1        "
   ]
  },
  {
   "cell_type": "code",
   "execution_count": 17,
   "metadata": {},
   "outputs": [
    {
     "name": "stdout",
     "output_type": "stream",
     "text": [
      "<u> Hi, It's me! </u>\n"
     ]
    }
   ],
   "source": [
    "#Problem 2\n",
    "\n",
    "def decorator2(func):\n",
    "    def wrapper(*args, **kwargs):\n",
    "        my_str = func(*args, **kwargs)\n",
    "        print('<u>', my_str, '</u>' )\n",
    "    return wrapper\n",
    "\n",
    "def decorator(func):\n",
    "    def wrapper(*args, **kwargs):\n",
    "        return func(*args, **kwargs) + \", It's me!\"\n",
    "    return wrapper\n",
    "\n",
    "\n",
    "@decorator2\n",
    "@decorator\n",
    "def printName():\n",
    "    return 'Hi'\n",
    "    \n",
    "printName()"
   ]
  },
  {
   "cell_type": "code",
   "execution_count": 1,
   "metadata": {},
   "outputs": [],
   "source": [
    "#Problem 3\n",
    "\n",
    "def func(n):\n",
    "    for i in range(n):\n",
    "        yield i\n",
    "    yield 'There are no values left'"
   ]
  },
  {
   "cell_type": "code",
   "execution_count": 6,
   "metadata": {},
   "outputs": [],
   "source": [
    "num = func(3)"
   ]
  },
  {
   "cell_type": "code",
   "execution_count": 1,
   "metadata": {},
   "outputs": [
    {
     "name": "stdout",
     "output_type": "stream",
     "text": [
      "You bought juice and spent 300 price\n"
     ]
    }
   ],
   "source": [
    "run Customer"
   ]
  },
  {
   "cell_type": "code",
   "execution_count": null,
   "metadata": {},
   "outputs": [],
   "source": []
  }
 ],
 "metadata": {
  "kernelspec": {
   "display_name": "Python 3",
   "language": "python",
   "name": "python3"
  },
  "language_info": {
   "codemirror_mode": {
    "name": "ipython",
    "version": 3
   },
   "file_extension": ".py",
   "mimetype": "text/x-python",
   "name": "python",
   "nbconvert_exporter": "python",
   "pygments_lexer": "ipython3",
   "version": "3.7.4"
  }
 },
 "nbformat": 4,
 "nbformat_minor": 4
}
