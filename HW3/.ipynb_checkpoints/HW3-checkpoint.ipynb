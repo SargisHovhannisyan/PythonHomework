{
 "cells": [
  {
   "cell_type": "code",
   "execution_count": 4,
   "id": "capable-infection",
   "metadata": {},
   "outputs": [],
   "source": [
    "class Car:\n",
    "    def __init__(self, model, color, max_speed):\n",
    "        self.model = model\n",
    "        self.color = color\n",
    "        self.max_speed = max_speed\n",
    "        \n",
    "    def CompareCar(self, car2):\n",
    "        if self.max_speed > car2.max_speed:\n",
    "            return 'Car 1 is better than Car 2'\n",
    "        else:\n",
    "            return 'Car 2 is better than Car 1'\n",
    "    \n",
    "\n",
    "class Person:\n",
    "    def __init__(self, name, last_name, age, gender, student):\n",
    "        self.name = name\n",
    "        self.last_name = last_name\n",
    "        self.age = age\n",
    "        self.gender = gender\n",
    "        self.student = student\n",
    "        \n",
    "    def get_pass(self):\n",
    "        return self.__pasword\n",
    "    \n",
    "    def set_pass(self, password):\n",
    "        self.__pasword = password\n",
    "        \n",
    "    def Greetings(self, p):\n",
    "        return 'Welcome Dear '+ str(p.name)\n",
    " \n",
    "    def GoodBye(self):\n",
    "        return 'Bye everyone!'\n",
    "        \n",
    "    def Favourite_num(self, num1):\n",
    "        return 'My favourite number is '+ str(num1)\n",
    "        \n",
    "    def Read_file(self, filename):\n",
    "        with open(filename + '.txt', 'r') as f:\n",
    "            print(f.read())"
   ]
  },
  {
   "cell_type": "code",
   "execution_count": 5,
   "id": "located-victoria",
   "metadata": {},
   "outputs": [],
   "source": [
    "person1 = Person('Sargis', 'Hovhannisyan', 21, 'male', 'yes')"
   ]
  },
  {
   "cell_type": "code",
   "execution_count": 13,
   "id": "opened-strengthening",
   "metadata": {},
   "outputs": [
    {
     "name": "stdout",
     "output_type": "stream",
     "text": [
      "This is my text\n"
     ]
    }
   ],
   "source": [
    "person1.Read_file('Text')"
   ]
  },
  {
   "cell_type": "code",
   "execution_count": null,
   "id": "quiet-arrangement",
   "metadata": {},
   "outputs": [],
   "source": []
  }
 ],
 "metadata": {
  "kernelspec": {
   "display_name": "Python 3",
   "language": "python",
   "name": "python3"
  },
  "language_info": {
   "codemirror_mode": {
    "name": "ipython",
    "version": 3
   },
   "file_extension": ".py",
   "mimetype": "text/x-python",
   "name": "python",
   "nbconvert_exporter": "python",
   "pygments_lexer": "ipython3",
   "version": "3.8.5"
  }
 },
 "nbformat": 4,
 "nbformat_minor": 5
}
