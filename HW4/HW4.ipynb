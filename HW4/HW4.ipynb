{
 "cells": [
  {
   "cell_type": "code",
   "execution_count": 16,
   "id": "placed-musician",
   "metadata": {},
   "outputs": [],
   "source": [
    "class Calculation:\n",
    "    def __init__(self, x, y):\n",
    "        self.x = x\n",
    "        self.y = y\n",
    "        \n",
    "    def addition(self):\n",
    "        print(self.x + self.y)\n",
    "    \n",
    "    def subtraction(self):\n",
    "        print(self.x - self.y)\n",
    "        \n",
    "class MyCalculation(Calculation):\n",
    "    def __init__(self, x, y):\n",
    "        super().__init__(x, y)\n",
    "        \n",
    "    def multiplication(self):\n",
    "        print(self.x * self.y)\n",
    "        \n",
    "    def division(self):\n",
    "        print(self.x / self.y)\n",
    "        \n",
    "class My_Time:\n",
    "    def __init__(self, t):\n",
    "        self.t = t\n",
    "        \n",
    "    def printTime(self):\n",
    "        print('The Current Time Is ' +  str(self.t))\n",
    "        \n",
    "class My_Date:\n",
    "    def __init__(self, d):\n",
    "        self.d = d\n",
    "        \n",
    "    def printDate(self):\n",
    "        print('The Current Date Is ' + str(self.d))\n",
    "        \n",
    "        \n",
    "class Date_Time(My_Time, My_Date):\n",
    "    def __init__(self, t, d):\n",
    "        My_Time.__init__(self, t)\n",
    "        My_Date.__init__(self, d)        "
   ]
  },
  {
   "cell_type": "code",
   "execution_count": 17,
   "id": "substantial-broadcast",
   "metadata": {},
   "outputs": [
    {
     "name": "stdout",
     "output_type": "stream",
     "text": [
      "8\n",
      "-2\n",
      "15\n",
      "0.6\n"
     ]
    }
   ],
   "source": [
    "calculate = MyCalculation(3, 5)\n",
    "calculate.addition()\n",
    "calculate.subtraction()\n",
    "calculate.multiplication()\n",
    "calculate.division()"
   ]
  },
  {
   "cell_type": "code",
   "execution_count": 18,
   "id": "molecular-beast",
   "metadata": {},
   "outputs": [
    {
     "name": "stdout",
     "output_type": "stream",
     "text": [
      "The Current Time Is 12 PM\n",
      "The Current Date Is 13.03.2013\n"
     ]
    }
   ],
   "source": [
    "date = Date_Time('12 PM', '13.03.2013')\n",
    "date.printTime()\n",
    "date.printDate()"
   ]
  },
  {
   "cell_type": "code",
   "execution_count": null,
   "id": "moving-building",
   "metadata": {},
   "outputs": [],
   "source": []
  }
 ],
 "metadata": {
  "kernelspec": {
   "display_name": "Python 3",
   "language": "python",
   "name": "python3"
  },
  "language_info": {
   "codemirror_mode": {
    "name": "ipython",
    "version": 3
   },
   "file_extension": ".py",
   "mimetype": "text/x-python",
   "name": "python",
   "nbconvert_exporter": "python",
   "pygments_lexer": "ipython3",
   "version": "3.8.5"
  }
 },
 "nbformat": 4,
 "nbformat_minor": 5
}
