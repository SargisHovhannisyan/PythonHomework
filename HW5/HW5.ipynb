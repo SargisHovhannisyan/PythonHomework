{
 "cells": [
  {
   "cell_type": "code",
   "execution_count": 14,
   "id": "durable-maria",
   "metadata": {},
   "outputs": [],
   "source": [
    "def div(x,y):\n",
    "    assert y != 0, \"Can’t divide\"\n",
    "    return x / y"
   ]
  },
  {
   "cell_type": "code",
   "execution_count": 15,
   "id": "temporal-snake",
   "metadata": {},
   "outputs": [
    {
     "ename": "AssertionError",
     "evalue": "Can’t divide",
     "output_type": "error",
     "traceback": [
      "\u001b[0;31m---------------------------------------------------------------------------\u001b[0m",
      "\u001b[0;31mAssertionError\u001b[0m                            Traceback (most recent call last)",
      "\u001b[0;32m<ipython-input-15-4267cdef819f>\u001b[0m in \u001b[0;36m<module>\u001b[0;34m\u001b[0m\n\u001b[0;32m----> 1\u001b[0;31m \u001b[0mdiv\u001b[0m\u001b[0;34m(\u001b[0m\u001b[0;36m1\u001b[0m\u001b[0;34m,\u001b[0m \u001b[0;36m0\u001b[0m\u001b[0;34m)\u001b[0m\u001b[0;34m\u001b[0m\u001b[0;34m\u001b[0m\u001b[0m\n\u001b[0m",
      "\u001b[0;32m<ipython-input-14-87e80fdaee16>\u001b[0m in \u001b[0;36mdiv\u001b[0;34m(x, y)\u001b[0m\n\u001b[1;32m      1\u001b[0m \u001b[0;32mdef\u001b[0m \u001b[0mdiv\u001b[0m\u001b[0;34m(\u001b[0m\u001b[0mx\u001b[0m\u001b[0;34m,\u001b[0m\u001b[0my\u001b[0m\u001b[0;34m)\u001b[0m\u001b[0;34m:\u001b[0m\u001b[0;34m\u001b[0m\u001b[0;34m\u001b[0m\u001b[0m\n\u001b[0;32m----> 2\u001b[0;31m     \u001b[0;32massert\u001b[0m \u001b[0my\u001b[0m \u001b[0;34m!=\u001b[0m \u001b[0;36m0\u001b[0m\u001b[0;34m,\u001b[0m \u001b[0;34m\"Can’t divide\"\u001b[0m\u001b[0;34m\u001b[0m\u001b[0;34m\u001b[0m\u001b[0m\n\u001b[0m\u001b[1;32m      3\u001b[0m     \u001b[0;32mreturn\u001b[0m \u001b[0mx\u001b[0m \u001b[0;34m/\u001b[0m \u001b[0my\u001b[0m\u001b[0;34m\u001b[0m\u001b[0;34m\u001b[0m\u001b[0m\n",
      "\u001b[0;31mAssertionError\u001b[0m: Can’t divide"
     ]
    }
   ],
   "source": [
    "div(1, 0)"
   ]
  },
  {
   "cell_type": "code",
   "execution_count": 31,
   "id": "synthetic-drawing",
   "metadata": {},
   "outputs": [
    {
     "name": "stdout",
     "output_type": "stream",
     "text": [
      "The entry is: a\n",
      "Oops!  unsupported operand type(s) for /: 'int' and 'str' \n",
      "\n",
      "The entry is: 0\n",
      "Oops!  division by zero \n",
      "\n",
      "The entry is: 2\n",
      "The reciprocal of 2 is 0.5 \n",
      "\n"
     ]
    }
   ],
   "source": [
    "list_ = ['a', 0, 2] \n",
    "\n",
    "for i in list_:\n",
    "    print('The entry is: ' + str(i))\n",
    "    try:\n",
    "        print('The reciprocal of {} is {} \\n'.format(i, 1/i))\n",
    "    except Exception as error:\n",
    "        print('Oops! ', error, '\\n')"
   ]
  },
  {
   "cell_type": "code",
   "execution_count": 43,
   "id": "continuous-enterprise",
   "metadata": {},
   "outputs": [],
   "source": [
    "class Person:\n",
    "    def __init__(self, name, last_name, age, gender, student):\n",
    "        self.name = name\n",
    "        self.last_name = last_name\n",
    "        self.age = age\n",
    "        self.gender = gender\n",
    "        assert (student == 0 or student == 1), \"Not bool value for Student\"\n",
    "        self.student = student\n",
    "        \n",
    "    def get_pass(self):\n",
    "        return self.__pasword\n",
    "    \n",
    "    def set_pass(self, password):\n",
    "        self.__pasword = password\n",
    "        \n",
    "    def Greetings(self, p):\n",
    "        return 'Welcome Dear '+ str(p.name)\n",
    " \n",
    "    def GoodBye(self):\n",
    "        return 'Bye everyone!'\n",
    "        \n",
    "    def Favourite_num(self, num1):\n",
    "        return 'My favourite number is '+ str(num1)\n",
    "\n",
    "    def Read_file(self, filename):\n",
    "        try:\n",
    "            with open(filename + '.txt', 'r') as f:\n",
    "                print(f.read())\n",
    "        except:\n",
    "            print(\"Can't read file\")"
   ]
  }
 ],
 "metadata": {
  "kernelspec": {
   "display_name": "Python 3",
   "language": "python",
   "name": "python3"
  },
  "language_info": {
   "codemirror_mode": {
    "name": "ipython",
    "version": 3
   },
   "file_extension": ".py",
   "mimetype": "text/x-python",
   "name": "python",
   "nbconvert_exporter": "python",
   "pygments_lexer": "ipython3",
   "version": "3.8.5"
  }
 },
 "nbformat": 4,
 "nbformat_minor": 5
}
