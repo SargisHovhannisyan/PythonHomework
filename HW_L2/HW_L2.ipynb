{
 "cells": [
  {
   "cell_type": "code",
   "execution_count": 25,
   "metadata": {},
   "outputs": [],
   "source": [
    "import cv2 as cv\n",
    "import numpy as np"
   ]
  },
  {
   "cell_type": "markdown",
   "metadata": {},
   "source": [
    "## Problem 1"
   ]
  },
  {
   "cell_type": "code",
   "execution_count": 3,
   "metadata": {},
   "outputs": [
    {
     "data": {
      "text/plain": [
       "100"
      ]
     },
     "execution_count": 3,
     "metadata": {},
     "output_type": "execute_result"
    }
   ],
   "source": [
    "img = cv.imread('pic1.jpg') \n",
    "cv.imshow('pic1', img)\n",
    "\n",
    "gray = cv.cvtColor(img, cv.COLOR_BGR2GRAY)\n",
    "cv.imshow('pic1_Gray', gray)\n",
    "cv.waitKey(0)"
   ]
  },
  {
   "cell_type": "markdown",
   "metadata": {},
   "source": [
    "## Problem 2"
   ]
  },
  {
   "cell_type": "code",
   "execution_count": 4,
   "metadata": {},
   "outputs": [
    {
     "data": {
      "text/plain": [
       "100"
      ]
     },
     "execution_count": 4,
     "metadata": {},
     "output_type": "execute_result"
    }
   ],
   "source": [
    "img = cv.imread('pic1.jpg') \n",
    "\n",
    "blur_3_3 = cv.GaussianBlur(img, (3, 3), cv.BORDER_DEFAULT) \n",
    "blur_11_11 = cv.GaussianBlur(img, (11, 11), cv.BORDER_DEFAULT) \n",
    "\n",
    "cv.imshow('pic1', img)\n",
    "cv.imshow('blur 3_3', blur_3_3)\n",
    "cv.imshow('blur 11_11', blur_11_11)\n",
    "\n",
    "cv.waitKey(0)"
   ]
  },
  {
   "cell_type": "markdown",
   "metadata": {},
   "source": [
    "## Problem 3"
   ]
  },
  {
   "cell_type": "code",
   "execution_count": 5,
   "metadata": {},
   "outputs": [
    {
     "data": {
      "text/plain": [
       "100"
      ]
     },
     "execution_count": 5,
     "metadata": {},
     "output_type": "execute_result"
    }
   ],
   "source": [
    "img = cv.imread('pic2.jpg') \n",
    "\n",
    "blur = cv.GaussianBlur(img, (3, 3), cv.BORDER_DEFAULT) \n",
    "\n",
    "canny = cv.Canny(img, 125, 175)\n",
    "canny_blur = cv.Canny(blur, 125, 175)\n",
    "\n",
    "cv.imshow('pic2', img)\n",
    "cv.imshow('pic2_Edges', canny)\n",
    "cv.imshow('pic2_blur_Edges', canny_blur)\n",
    "\n",
    "\n",
    "cv.waitKey(0)"
   ]
  },
  {
   "cell_type": "markdown",
   "metadata": {},
   "source": [
    "## Problem 4"
   ]
  },
  {
   "cell_type": "code",
   "execution_count": 5,
   "metadata": {},
   "outputs": [
    {
     "data": {
      "text/plain": [
       "100"
      ]
     },
     "execution_count": 5,
     "metadata": {},
     "output_type": "execute_result"
    }
   ],
   "source": [
    "img = cv.imread('pic2.jpg') \n",
    "\n",
    "resize_big = cv.resize(img, (img.shape[1]*2, img.shape[0]))\n",
    "resize_small = cv.resize(img, (img.shape[1], img.shape[0]//2))\n",
    "\n",
    "cv.imshow('pic2', img)\n",
    "cv.imshow('pic2 2 times bigger', resize_big)\n",
    "cv.imshow('pic2 2 times smaller', resize_small)\n",
    "\n",
    "cv.waitKey(0)"
   ]
  },
  {
   "cell_type": "markdown",
   "metadata": {},
   "source": [
    "## Problem 5"
   ]
  },
  {
   "cell_type": "code",
   "execution_count": 16,
   "metadata": {},
   "outputs": [],
   "source": [
    "def translate(img, x, y):\n",
    "    \n",
    "    transMat = np.float32([[1, 0, x], [0, 1, y]]) \n",
    "    dimentions = (img.shape[1], img.shape[0])\n",
    "    \n",
    "    return cv.warpAffine(img, transMat, dimentions)\n",
    "\n",
    "def rotate(img, angle, rotPoint = None): \n",
    "    \n",
    "    (height, width) = (img.shape[0], img.shape[1])\n",
    "    \n",
    "    if rotPoint == None:\n",
    "        rotPoint = (width//2, height//2)\n",
    "        \n",
    "    rotMat = cv.getRotationMatrix2D(rotPoint, angle, 1.0) # 1.0 - scale\n",
    "    dimentions = (width, height)\n",
    "    \n",
    "    return cv.warpAffine(img, rotMat, dimentions)"
   ]
  },
  {
   "cell_type": "code",
   "execution_count": 22,
   "metadata": {},
   "outputs": [
    {
     "data": {
      "text/plain": [
       "100"
      ]
     },
     "execution_count": 22,
     "metadata": {},
     "output_type": "execute_result"
    }
   ],
   "source": [
    "img = cv.imread('pic2.jpg')\n",
    "\n",
    "cv.imshow('pic2', img)\n",
    "\n",
    "#200 is large for that I choose 100 pixel\n",
    "translated = translate(img, 50, 100) \n",
    "cv.imshow('pic2 translated', translated)\n",
    "\n",
    "rotated = rotate(translated, 50)\n",
    "cv.imshow('pic2 2 rotate', rotated)\n",
    "\n",
    "fliped =  cv.flip(rotated, -1)\n",
    "cv.imshow('pic2 2 flip', fliped)\n",
    "\n",
    "cv.waitKey(0)"
   ]
  },
  {
   "cell_type": "markdown",
   "metadata": {},
   "source": [
    "## Problem 6"
   ]
  },
  {
   "cell_type": "code",
   "execution_count": 27,
   "metadata": {},
   "outputs": [
    {
     "data": {
      "text/plain": [
       "100"
      ]
     },
     "execution_count": 27,
     "metadata": {},
     "output_type": "execute_result"
    }
   ],
   "source": [
    "img = cv.imread('pic3.jpg')\n",
    "cv.imshow('pic3', img)\n",
    "\n",
    "canny = cv.Canny(img, 125, 175)\n",
    "contours, hierarchies = cv.findContours(canny, cv.RETR_LIST, cv.CHAIN_APPROX_SIMPLE)\n",
    "black = np.zeros(img.shape, dtype = 'uint8')\n",
    "\n",
    "cv.drawContours(black, contours, -1, (255, 255, 255), 1) \n",
    "cv.imshow('contours drawn1', black)\n",
    "\n",
    "img_gray = cv.cvtColor(img, cv.COLOR_BGR2GRAY)\n",
    "blur = cv.GaussianBlur(img_gray, (3, 3), cv.BORDER_DEFAULT)\n",
    "canny_gray = cv.Canny(blur, 125, 175)\n",
    "contours_gray, hierarchies2 = cv.findContours(canny_gray, cv.RETR_LIST, cv.CHAIN_APPROX_NONE)\n",
    "\n",
    "black_gray = np.zeros(img.shape, dtype = 'uint8')\n",
    "cv.drawContours(black_gray, contours_gray, -1, (255, 255, 255), 1) \n",
    "cv.imshow('contours drawn2', black_gray)\n",
    "\n",
    "cv.waitKey(0)"
   ]
  },
  {
   "cell_type": "code",
   "execution_count": null,
   "metadata": {},
   "outputs": [],
   "source": []
  }
 ],
 "metadata": {
  "kernelspec": {
   "display_name": "Python 3",
   "language": "python",
   "name": "python3"
  },
  "language_info": {
   "codemirror_mode": {
    "name": "ipython",
    "version": 3
   },
   "file_extension": ".py",
   "mimetype": "text/x-python",
   "name": "python",
   "nbconvert_exporter": "python",
   "pygments_lexer": "ipython3",
   "version": "3.8.5"
  }
 },
 "nbformat": 4,
 "nbformat_minor": 4
}
